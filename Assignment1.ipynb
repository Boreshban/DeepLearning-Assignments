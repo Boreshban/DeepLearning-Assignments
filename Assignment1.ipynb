{
  "nbformat": 4,
  "nbformat_minor": 0,
  "metadata": {
    "colab": {
      "provenance": []
    },
    "kernelspec": {
      "name": "python3",
      "display_name": "Python 3"
    },
    "language_info": {
      "name": "python"
    },
    "accelerator": "GPU",
    "gpuClass": "standard"
  },
  "cells": [
    {
      "cell_type": "markdown",
      "source": [
        "In this notebook, we will train an MLP to classify images from the MNIST database."
      ],
      "metadata": {
        "id": "wx9N--74f9D5"
      }
    },
    {
      "cell_type": "code",
      "execution_count": 17,
      "metadata": {
        "id": "cX9A6GNdfSvj"
      },
      "outputs": [],
      "source": [
        "import numpy as np\n",
        "import torch\n",
        "import torch.nn as nn\n",
        "import torch.nn.functional as F\n",
        "import torchvision.datasets as datasets\n",
        "import torchvision.transforms as transforms\n",
        "import matplotlib.pyplot as plt\n"
      ]
    },
    {
      "cell_type": "markdown",
      "source": [
        "define variables"
      ],
      "metadata": {
        "id": "NZMyi5zXgI7k"
      }
    },
    {
      "cell_type": "code",
      "source": [
        "\n",
        "batch_size = 100\n",
        "D_in, H1, H2, D_out = 784, 12, 12, 10\n",
        "learning_rate = 0.001\n",
        "epoch = 50"
      ],
      "metadata": {
        "id": "lpddl01NfjvQ"
      },
      "execution_count": 18,
      "outputs": []
    },
    {
      "cell_type": "markdown",
      "source": [
        "Load Dataset"
      ],
      "metadata": {
        "id": "EIwYf7ukgaTd"
      }
    },
    {
      "cell_type": "code",
      "source": [
        "# load Mnist dataset\n",
        "mnist_trainset = datasets.MNIST(root='./data', train=True, download=True, transform=transforms.ToTensor())\n",
        "mnist_testset = datasets.MNIST(root='./data', train=False, download=True, transform=transforms.ToTensor())\n",
        "\n",
        "train_tensors = mnist_trainset.data.float() / 255\n",
        "test_tensors = mnist_testset.data.float() / 255\n",
        "\n",
        "train_dataset = torch.utils.data.TensorDataset(train_tensors, mnist_trainset.targets)\n",
        "test_dataset = torch.utils.data.TensorDataset(test_tensors, mnist_testset.targets)\n",
        "\n",
        "train_loader = torch.utils.data.DataLoader(dataset=mnist_trainset, batch_size=batch_size, shuffle=True)\n",
        "test_loader = torch.utils.data.DataLoader(dataset=mnist_testset, batch_size=batch_size, shuffle=False)\n"
      ],
      "metadata": {
        "id": "DsOOfhJgfmmN"
      },
      "execution_count": 19,
      "outputs": []
    },
    {
      "cell_type": "markdown",
      "source": [
        "Define the Network Architecture\n"
      ],
      "metadata": {
        "id": "nCIKWzDdgiSq"
      }
    },
    {
      "cell_type": "code",
      "source": [
        "\n",
        "class TreeLayerNeuralNet(nn.Module):\n",
        "    def __init__(self, D_in, H1, H2, D_out):\n",
        "        super(TreeLayerNeuralNet, self).__init__()\n",
        "        self.linear1 = nn.Linear(D_in, H1)\n",
        "        self.linear2 = nn.Linear(H1, H2)\n",
        "        self.linear3 = nn.Linear(H2, D_out)\n",
        "        self.sigmoid = nn.Sigmoid()\n",
        "        self.softmax = torch.nn.Softmax(dim=1)\n",
        "\n",
        "    def forward(self, x):\n",
        "        h1 = self.linear1(x)\n",
        "        h1sig = self.sigmoid(h1)\n",
        "        h2 = self.linear2(h1sig)\n",
        "        h2sig = self.sigmoid(h2)\n",
        "        y = self.linear3(h2sig)\n",
        "        y_pred = self.softmax(y)\n",
        "        return y_pred\n",
        "\n",
        "\n"
      ],
      "metadata": {
        "id": "0nyXE6wHfq9k"
      },
      "execution_count": 20,
      "outputs": []
    },
    {
      "cell_type": "markdown",
      "source": [
        "Specify Loss Function and Optimizer"
      ],
      "metadata": {
        "id": "4_wLKb-zgpDD"
      }
    },
    {
      "cell_type": "code",
      "source": [
        "model = TreeLayerNeuralNet(D_in, H1, H2, D_out)\n",
        "optimizer = torch.optim.Adam(model.parameters(), lr=learning_rate)"
      ],
      "metadata": {
        "id": "peIIhmd2goQ2"
      },
      "execution_count": 21,
      "outputs": []
    },
    {
      "cell_type": "markdown",
      "source": [
        "Train the Network"
      ],
      "metadata": {
        "id": "0At3fn4fgvMu"
      }
    },
    {
      "cell_type": "code",
      "source": [
        "total_loss = []\n",
        "addloss = 0\n",
        "lossarray = np.zeros(epoch)\n",
        "prit_show = 100\n",
        "for epochnumber in range(epoch):\n",
        "    addloss = 0\n",
        "    print('Epoch {}/{}'.format(epochnumber + 1, epoch))\n",
        "    for i, (imges, labeles) in enumerate(train_loader):\n",
        "        y_predicted = model(imges.reshape(-1, 28 * 28))\n",
        "        loss = F.cross_entropy(y_predicted, labeles)\n",
        "        loss.backward()\n",
        "        addloss += loss.item()\n",
        "        optimizer.step()\n",
        "        optimizer.zero_grad()\n",
        "    lossarray[epochnumber] = addloss / len(train_loader)\n",
        "plt.plot(range(epoch), lossarray)\n",
        "plt.show()"
      ],
      "metadata": {
        "colab": {
          "base_uri": "https://localhost:8080/",
          "height": 1000
        },
        "id": "7OoUjAOXfuvL",
        "outputId": "35218c11-1d2b-4bd7-b4b1-e3536f7307a3"
      },
      "execution_count": 22,
      "outputs": [
        {
          "output_type": "stream",
          "name": "stdout",
          "text": [
            "Epoch 1/50\n",
            "Epoch 2/50\n",
            "Epoch 3/50\n",
            "Epoch 4/50\n",
            "Epoch 5/50\n",
            "Epoch 6/50\n",
            "Epoch 7/50\n",
            "Epoch 8/50\n",
            "Epoch 9/50\n",
            "Epoch 10/50\n",
            "Epoch 11/50\n",
            "Epoch 12/50\n",
            "Epoch 13/50\n",
            "Epoch 14/50\n",
            "Epoch 15/50\n",
            "Epoch 16/50\n",
            "Epoch 17/50\n",
            "Epoch 18/50\n",
            "Epoch 19/50\n",
            "Epoch 20/50\n",
            "Epoch 21/50\n",
            "Epoch 22/50\n",
            "Epoch 23/50\n",
            "Epoch 24/50\n",
            "Epoch 25/50\n",
            "Epoch 26/50\n",
            "Epoch 27/50\n",
            "Epoch 28/50\n",
            "Epoch 29/50\n",
            "Epoch 30/50\n",
            "Epoch 31/50\n",
            "Epoch 32/50\n",
            "Epoch 33/50\n",
            "Epoch 34/50\n",
            "Epoch 35/50\n",
            "Epoch 36/50\n",
            "Epoch 37/50\n",
            "Epoch 38/50\n",
            "Epoch 39/50\n",
            "Epoch 40/50\n",
            "Epoch 41/50\n",
            "Epoch 42/50\n",
            "Epoch 43/50\n",
            "Epoch 44/50\n",
            "Epoch 45/50\n",
            "Epoch 46/50\n",
            "Epoch 47/50\n",
            "Epoch 48/50\n",
            "Epoch 49/50\n",
            "Epoch 50/50\n"
          ]
        },
        {
          "output_type": "display_data",
          "data": {
            "text/plain": [
              "<Figure size 432x288 with 1 Axes>"
            ],
            "image/png": "[encoded data removed]"
          },
          "metadata": {
            "needs_background": "light"
          }
        }
      ]
    },
    {
      "cell_type": "markdown",
      "source": [
        "\n",
        "Test the Trained Network"
      ],
      "metadata": {
        "id": "ZcRY3x1BgzX3"
      }
    },
    {
      "cell_type": "code",
      "source": [
        "with torch.no_grad():\n",
        "    total = 0\n",
        "    correct = 0\n",
        "    for i, (imges, labeles) in enumerate(test_loader):\n",
        "        outputs = model(imges.reshape(-1, 28 * 28))\n",
        "        _, predicted = torch.max(outputs.data, 1)\n",
        "        total += labeles.size(0)\n",
        "        correct += (predicted == labeles).sum().item()\n",
        "        accuracy = correct / total\n",
        "\n",
        "    print('accuracy{}'.format(accuracy))"
      ],
      "metadata": {
        "colab": {
          "base_uri": "https://localhost:8080/"
        },
        "id": "yoLyvC4ofwuM",
        "outputId": "021f5f4c-8538-4094-c370-c284e28b6a37"
      },
      "execution_count": 23,
      "outputs": [
        {
          "output_type": "stream",
          "name": "stdout",
          "text": [
            "accuracy0.9391\n"
          ]
        }
      ]
    }
  ]
}