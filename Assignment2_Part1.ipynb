{
  "nbformat": 4,
  "nbformat_minor": 0,
  "metadata": {
    "colab": {
      "provenance": []
    },
    "kernelspec": {
      "name": "python3",
      "display_name": "Python 3"
    },
    "language_info": {
      "name": "python"
    },
    "accelerator": "GPU",
    "gpuClass": "standard"
  },
  "cells": [
    {
      "cell_type": "markdown",
      "source": [
        "Convolutional Neural Network On CIFAR 10 Dataset"
      ],
      "metadata": {
        "id": "0jUm1WE3j07l"
      }
    },
    {
      "cell_type": "code",
      "execution_count": 1,
      "metadata": {
        "id": "xEaKuQPSiMiy"
      },
      "outputs": [],
      "source": [
        "import numpy as np\n",
        "import torch\n",
        "import torchvision\n",
        "import torch.nn as nn\n",
        "import torch.nn.functional as F\n",
        "import torchvision.datasets as datasets\n",
        "import torchvision.datasets as datasets\n",
        "from torch.utils.data import TensorDataset,DataLoader\n",
        "import torchvision.transforms as transforms\n",
        "import matplotlib.pyplot as plt"
      ]
    },
    {
      "cell_type": "markdown",
      "source": [
        "Define variables"
      ],
      "metadata": {
        "id": "XrvhG8sJrZjA"
      }
    },
    {
      "cell_type": "code",
      "source": [
        "# configuration\n",
        "device = torch.device('cuda:0' if torch.cuda.is_available() else 'cpu')\n",
        "#hyper parameter\n",
        "batch_size=256"
      ],
      "metadata": {
        "id": "KZ4eAHK-rhnC"
      },
      "execution_count": 2,
      "outputs": []
    },
    {
      "cell_type": "markdown",
      "source": [
        "Load  Cifar 10 Dataset"
      ],
      "metadata": {
        "id": "vhZoaxLUrRAe"
      }
    },
    {
      "cell_type": "code",
      "source": [
        "#normalization\n",
        "transform = transforms.Compose(\n",
        "    [transforms.ToTensor(),\n",
        "     transforms.Normalize((0.5, 0.5, 0.5), (0.5, 0.5, 0.5))])\n",
        "\n",
        "# load cifar dataset\n",
        "cifar10_trainset = datasets.CIFAR10(root='./data', train=True, download=True, transform=transforms.ToTensor())\n",
        "cifar10_testset = datasets.CIFAR10(root='./data', train=False, download=True, transform=transforms.ToTensor())\n",
        "\n",
        "# define train and test loader\n",
        "train_loader = torch.utils.data.DataLoader(dataset=cifar10_trainset, batch_size=batch_size, shuffle=True)\n",
        "test_loader = torch.utils.data.DataLoader(dataset=cifar10_testset, batch_size=batch_size, shuffle=False)"
      ],
      "metadata": {
        "colab": {
          "base_uri": "https://localhost:8080/"
        },
        "id": "gBQbPi6OrMZk",
        "outputId": "3caf247e-f9b2-4b93-cfdb-ff9198679f45"
      },
      "execution_count": 4,
      "outputs": [
        {
          "output_type": "stream",
          "name": "stdout",
          "text": [
            "Files already downloaded and verified\n",
            "Files already downloaded and verified\n"
          ]
        }
      ]
    },
    {
      "cell_type": "markdown",
      "source": [
        "Hyper Parameter"
      ],
      "metadata": {
        "id": "OQ0T3uHQr8KA"
      }
    },
    {
      "cell_type": "code",
      "source": [
        "#hyper parameter\n",
        "\n",
        "learning_rate=0.001\n",
        "epoch=100\n"
      ],
      "metadata": {
        "id": "Z9SmxJK3sK2j"
      },
      "execution_count": 11,
      "outputs": []
    },
    {
      "cell_type": "markdown",
      "source": [
        "Define the Network Architecture\n"
      ],
      "metadata": {
        "id": "IQPDZcIcsBuL"
      }
    },
    {
      "cell_type": "code",
      "source": [
        "class CNN_Network(nn.Module):\n",
        "    def __init__(self):\n",
        "        super(CNN_Network, self).__init__()\n",
        "        self.conv1=nn.Conv2d(3, 64, kernel_size=5, stride=1)       \n",
        "        self.conv2 =  nn.Conv2d(64, 64, kernel_size=5, stride=1)\n",
        "        self.pool1=nn.MaxPool2d(kernel_size=2, stride=2)\n",
        "        self.conv3 = nn.Conv2d(64, 64, kernel_size=3, stride=1)\n",
        "        self.pool2=nn.MaxPool2d(kernel_size=2, stride=2)\n",
        "        self.linear1=nn.Linear(64 * 5 * 5, 256)\n",
        "        self.linear2= nn.Linear(256, 10) \n",
        "      \n",
        "\n",
        "    def forward(self, x):\n",
        "        conv1 = self.conv1(x)\n",
        "        conv1relu=F.relu(conv1)\n",
        "        conv2 = self.conv2(conv1relu)\n",
        "        conv2relu=F.relu(conv2)\n",
        "        conv2pool=self.pool1(conv2relu)\n",
        "        conv3 = self.conv3(conv2pool)\n",
        "        conv3relu=F.relu(conv3)\n",
        "        conv3pool=self.pool2(conv3relu)\n",
        "        x=conv3pool.view(-1,64*5*5)\n",
        "        x=self.linear1(x)\n",
        "        x=F.relu(x)\n",
        "        y_pred=self.linear2(x)\n",
        "        return conv1relu,conv2relu,conv3relu,y_pred\n"
      ],
      "metadata": {
        "id": "0XfB0rg6ry05"
      },
      "execution_count": 12,
      "outputs": []
    },
    {
      "cell_type": "markdown",
      "source": [
        "Specify Loss Function and Optimizer"
      ],
      "metadata": {
        "id": "VZ3hrcKmsXsG"
      }
    },
    {
      "cell_type": "code",
      "source": [
        "model = CNN_Network().to(device)\n",
        "optimizer = torch.optim.Adam(model.parameters(), lr=learning_rate)"
      ],
      "metadata": {
        "id": "GsXLDSxrsdlK"
      },
      "execution_count": 13,
      "outputs": []
    },
    {
      "cell_type": "markdown",
      "source": [
        "Train the Network"
      ],
      "metadata": {
        "id": "6q0TEtEHsi82"
      }
    },
    {
      "cell_type": "code",
      "source": [
        "addloss = 0\n",
        "lossarray = np.zeros(epoch)\n",
        "accuracyarray = np.zeros(epoch)\n",
        "\n",
        "for epochnumber in range(epoch):\n",
        "    addloss = 0\n",
        "    for i, (imges, labeles) in enumerate(train_loader):\n",
        "        imges = imges.to(device)\n",
        "        labeles = labeles.to(device)\n",
        "        _,_,_,y_predicted = model(imges)\n",
        "        loss = F.cross_entropy(y_predicted, labeles)\n",
        "        loss.backward()\n",
        "        addloss += loss.item()\n",
        "        optimizer.step()\n",
        "        optimizer.zero_grad()\n",
        "\n",
        "    lossarray[epochnumber] = addloss / len(train_loader)\n",
        "    print('Epoch {}/{} , loss= {}'.format(epochnumber + 1, epoch,lossarray[epochnumber] ))\n",
        "plt.plot(range(epoch), lossarray)\n",
        "plt.show()\n",
        "   "
      ],
      "metadata": {
        "colab": {
          "base_uri": "https://localhost:8080/",
          "height": 1000
        },
        "id": "KWJlo6KWsh7B",
        "outputId": "e27b9fb6-9ad8-4c28-80be-14261d3e4546"
      },
      "execution_count": 14,
      "outputs": [
        {
          "output_type": "stream",
          "name": "stdout",
          "text": [
            "Epoch 1/100 , loss= 1.7217513061299616\n",
            "Epoch 2/100 , loss= 1.386985137754557\n",
            "Epoch 3/100 , loss= 1.2248530844036414\n",
            "Epoch 4/100 , loss= 1.0937874152952312\n",
            "Epoch 5/100 , loss= 1.0031518993937238\n",
            "Epoch 6/100 , loss= 0.9298388459244553\n",
            "Epoch 7/100 , loss= 0.8544494713447532\n",
            "Epoch 8/100 , loss= 0.8009358361667517\n",
            "Epoch 9/100 , loss= 0.7405911051497167\n",
            "Epoch 10/100 , loss= 0.6986482690791694\n",
            "Epoch 11/100 , loss= 0.6498889944383076\n",
            "Epoch 12/100 , loss= 0.6006350194921299\n",
            "Epoch 13/100 , loss= 0.5547954348885283\n",
            "Epoch 14/100 , loss= 0.5164554430818071\n",
            "Epoch 15/100 , loss= 0.4811149025145842\n",
            "Epoch 16/100 , loss= 0.4419159224751044\n",
            "Epoch 17/100 , loss= 0.41294816166770704\n",
            "Epoch 18/100 , loss= 0.37324220869614155\n",
            "Epoch 19/100 , loss= 0.3441588985068457\n",
            "Epoch 20/100 , loss= 0.2996406867644008\n",
            "Epoch 21/100 , loss= 0.28645654463646364\n",
            "Epoch 22/100 , loss= 0.24186893598157533\n",
            "Epoch 23/100 , loss= 0.22457369515786366\n",
            "Epoch 24/100 , loss= 0.20823440860424722\n",
            "Epoch 25/100 , loss= 0.18326090348466317\n",
            "Epoch 26/100 , loss= 0.16153754480183125\n",
            "Epoch 27/100 , loss= 0.1483838471907134\n",
            "Epoch 28/100 , loss= 0.12707983814560028\n",
            "Epoch 29/100 , loss= 0.13209455420396157\n",
            "Epoch 30/100 , loss= 0.11068967803932574\n",
            "Epoch 31/100 , loss= 0.100530314582343\n",
            "Epoch 32/100 , loss= 0.09523822190430091\n",
            "Epoch 33/100 , loss= 0.103867440218372\n",
            "Epoch 34/100 , loss= 0.08314024790057115\n",
            "Epoch 35/100 , loss= 0.09831010016175556\n",
            "Epoch 36/100 , loss= 0.0842935626338027\n",
            "Epoch 37/100 , loss= 0.07450907296330041\n",
            "Epoch 38/100 , loss= 0.0602533714370612\n",
            "Epoch 39/100 , loss= 0.0719301752480013\n",
            "Epoch 40/100 , loss= 0.0818965677932209\n",
            "Epoch 41/100 , loss= 0.08166443611666256\n",
            "Epoch 42/100 , loss= 0.07569307889979408\n",
            "Epoch 43/100 , loss= 0.0732887363422434\n",
            "Epoch 44/100 , loss= 0.06063943253164845\n",
            "Epoch 45/100 , loss= 0.05751443455679989\n",
            "Epoch 46/100 , loss= 0.0866076782611864\n",
            "Epoch 47/100 , loss= 0.07750708599365791\n",
            "Epoch 48/100 , loss= 0.052165900357067585\n",
            "Epoch 49/100 , loss= 0.0564899931053574\n",
            "Epoch 50/100 , loss= 0.05220808101608893\n",
            "Epoch 51/100 , loss= 0.04933308187767635\n",
            "Epoch 52/100 , loss= 0.0838799622404028\n",
            "Epoch 53/100 , loss= 0.07551099454071752\n",
            "Epoch 54/100 , loss= 0.05352343982845849\n",
            "Epoch 55/100 , loss= 0.042805957032975794\n",
            "Epoch 56/100 , loss= 0.05011656516640238\n",
            "Epoch 57/100 , loss= 0.034894818909898664\n",
            "Epoch 58/100 , loss= 0.04767738065530299\n",
            "Epoch 59/100 , loss= 0.08565573915078932\n",
            "Epoch 60/100 , loss= 0.056752915570170294\n",
            "Epoch 61/100 , loss= 0.043781428792684964\n",
            "Epoch 62/100 , loss= 0.05420004402059225\n",
            "Epoch 63/100 , loss= 0.06589731533907126\n",
            "Epoch 64/100 , loss= 0.04530588479009362\n",
            "Epoch 65/100 , loss= 0.042474207513471494\n",
            "Epoch 66/100 , loss= 0.0479256515082314\n",
            "Epoch 67/100 , loss= 0.04790152675633756\n",
            "Epoch 68/100 , loss= 0.05750543498719225\n",
            "Epoch 69/100 , loss= 0.06563956043635476\n",
            "Epoch 70/100 , loss= 0.06082748979025958\n",
            "Epoch 71/100 , loss= 0.0602229757196441\n",
            "Epoch 72/100 , loss= 0.034743722233617186\n",
            "Epoch 73/100 , loss= 0.029154082337912286\n",
            "Epoch 74/100 , loss= 0.03596606581799724\n",
            "Epoch 75/100 , loss= 0.049565240526952\n",
            "Epoch 76/100 , loss= 0.05278426325376317\n",
            "Epoch 77/100 , loss= 0.055567641647494566\n",
            "Epoch 78/100 , loss= 0.059934984023055554\n",
            "Epoch 79/100 , loss= 0.05882252725221369\n",
            "Epoch 80/100 , loss= 0.03243897386531973\n",
            "Epoch 81/100 , loss= 0.0226484324256842\n",
            "Epoch 82/100 , loss= 0.026261936134316634\n",
            "Epoch 83/100 , loss= 0.0692020426314248\n",
            "Epoch 84/100 , loss= 0.05573105706586218\n",
            "Epoch 85/100 , loss= 0.04453354661961143\n",
            "Epoch 86/100 , loss= 0.03423126872595666\n",
            "Epoch 87/100 , loss= 0.03521838907047878\n",
            "Epoch 88/100 , loss= 0.0409872625165676\n",
            "Epoch 89/100 , loss= 0.06069498398455278\n",
            "Epoch 90/100 , loss= 0.03030674865502598\n",
            "Epoch 91/100 , loss= 0.04094632432145086\n",
            "Epoch 92/100 , loss= 0.05133227220907503\n",
            "Epoch 93/100 , loss= 0.04509684590537253\n",
            "Epoch 94/100 , loss= 0.04944324486755899\n",
            "Epoch 95/100 , loss= 0.026804758386676942\n",
            "Epoch 96/100 , loss= 0.028656361849707723\n",
            "Epoch 97/100 , loss= 0.037762612332494894\n",
            "Epoch 98/100 , loss= 0.053170533765259445\n",
            "Epoch 99/100 , loss= 0.05791066127130762\n",
            "Epoch 100/100 , loss= 0.04512079127313455\n"
          ]
        },
        {
          "output_type": "display_data",
          "data": {
            "text/plain": [
              "<Figure size 432x288 with 1 Axes>"
            ],
            "image/png": "[encoded data removed]"
          },
          "metadata": {
            "needs_background": "light"
          }
        }
      ]
    },
    {
      "cell_type": "markdown",
      "source": [
        "Test the Trained Network"
      ],
      "metadata": {
        "id": "wP_TvqcrtMBn"
      }
    },
    {
      "cell_type": "code",
      "source": [
        "with torch.no_grad():\n",
        "        total = 0\n",
        "        correct = 0\n",
        "        for i, (imges, labeles) in enumerate(test_loader):\n",
        "            imges = imges.to(device)\n",
        "            labeles = labeles.to(device)\n",
        "            _,_,_,outputs = model(imges)\n",
        "            _, predicted = torch.max(outputs.data, 1)\n",
        "            total += labeles.size(0)\n",
        "            correct += (predicted == labeles).sum().item()\n",
        "\n",
        "        accuracy = correct / total\n",
        "        accuracyarray[epochnumber]=accuracy\n",
        "        print('test accuracy{}'.format(accuracy))\n"
      ],
      "metadata": {
        "colab": {
          "base_uri": "https://localhost:8080/"
        },
        "id": "EDGwJDChtCRj",
        "outputId": "e1a730db-2117-444e-888c-5c927a5cf08a"
      },
      "execution_count": 16,
      "outputs": [
        {
          "output_type": "stream",
          "name": "stdout",
          "text": [
            "test accuracy0.6851\n"
          ]
        }
      ]
    }
  ]
}